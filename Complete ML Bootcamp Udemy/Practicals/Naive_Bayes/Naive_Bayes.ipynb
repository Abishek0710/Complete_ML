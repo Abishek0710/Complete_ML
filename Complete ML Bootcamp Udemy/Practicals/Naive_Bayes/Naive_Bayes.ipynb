{
 "cells": [
  {
   "cell_type": "code",
   "execution_count": 3,
   "metadata": {},
   "outputs": [],
   "source": [
    "from sklearn.datasets import load_iris"
   ]
  },
  {
   "cell_type": "code",
   "execution_count": 4,
   "metadata": {},
   "outputs": [],
   "source": [
    "from sklearn.model_selection import train_test_split"
   ]
  },
  {
   "cell_type": "code",
   "execution_count": 5,
   "metadata": {},
   "outputs": [],
   "source": [
    "X,y = load_iris(return_X_y=True)"
   ]
  },
  {
   "cell_type": "code",
   "execution_count": 7,
   "metadata": {},
   "outputs": [
    {
     "data": {
      "text/plain": [
       "array([[5.1, 3.5, 1.4, 0.2],\n",
       "       [4.9, 3. , 1.4, 0.2],\n",
       "       [4.7, 3.2, 1.3, 0.2],\n",
       "       [4.6, 3.1, 1.5, 0.2],\n",
       "       [5. , 3.6, 1.4, 0.2],\n",
       "       [5.4, 3.9, 1.7, 0.4],\n",
       "       [4.6, 3.4, 1.4, 0.3],\n",
       "       [5. , 3.4, 1.5, 0.2],\n",
       "       [4.4, 2.9, 1.4, 0.2],\n",
       "       [4.9, 3.1, 1.5, 0.1],\n",
       "       [5.4, 3.7, 1.5, 0.2],\n",
       "       [4.8, 3.4, 1.6, 0.2],\n",
       "       [4.8, 3. , 1.4, 0.1],\n",
       "       [4.3, 3. , 1.1, 0.1],\n",
       "       [5.8, 4. , 1.2, 0.2],\n",
       "       [5.7, 4.4, 1.5, 0.4],\n",
       "       [5.4, 3.9, 1.3, 0.4],\n",
       "       [5.1, 3.5, 1.4, 0.3],\n",
       "       [5.7, 3.8, 1.7, 0.3],\n",
       "       [5.1, 3.8, 1.5, 0.3],\n",
       "       [5.4, 3.4, 1.7, 0.2],\n",
       "       [5.1, 3.7, 1.5, 0.4],\n",
       "       [4.6, 3.6, 1. , 0.2],\n",
       "       [5.1, 3.3, 1.7, 0.5],\n",
       "       [4.8, 3.4, 1.9, 0.2],\n",
       "       [5. , 3. , 1.6, 0.2],\n",
       "       [5. , 3.4, 1.6, 0.4],\n",
       "       [5.2, 3.5, 1.5, 0.2],\n",
       "       [5.2, 3.4, 1.4, 0.2],\n",
       "       [4.7, 3.2, 1.6, 0.2],\n",
       "       [4.8, 3.1, 1.6, 0.2],\n",
       "       [5.4, 3.4, 1.5, 0.4],\n",
       "       [5.2, 4.1, 1.5, 0.1],\n",
       "       [5.5, 4.2, 1.4, 0.2],\n",
       "       [4.9, 3.1, 1.5, 0.2],\n",
       "       [5. , 3.2, 1.2, 0.2],\n",
       "       [5.5, 3.5, 1.3, 0.2],\n",
       "       [4.9, 3.6, 1.4, 0.1],\n",
       "       [4.4, 3. , 1.3, 0.2],\n",
       "       [5.1, 3.4, 1.5, 0.2],\n",
       "       [5. , 3.5, 1.3, 0.3],\n",
       "       [4.5, 2.3, 1.3, 0.3],\n",
       "       [4.4, 3.2, 1.3, 0.2],\n",
       "       [5. , 3.5, 1.6, 0.6],\n",
       "       [5.1, 3.8, 1.9, 0.4],\n",
       "       [4.8, 3. , 1.4, 0.3],\n",
       "       [5.1, 3.8, 1.6, 0.2],\n",
       "       [4.6, 3.2, 1.4, 0.2],\n",
       "       [5.3, 3.7, 1.5, 0.2],\n",
       "       [5. , 3.3, 1.4, 0.2],\n",
       "       [7. , 3.2, 4.7, 1.4],\n",
       "       [6.4, 3.2, 4.5, 1.5],\n",
       "       [6.9, 3.1, 4.9, 1.5],\n",
       "       [5.5, 2.3, 4. , 1.3],\n",
       "       [6.5, 2.8, 4.6, 1.5],\n",
       "       [5.7, 2.8, 4.5, 1.3],\n",
       "       [6.3, 3.3, 4.7, 1.6],\n",
       "       [4.9, 2.4, 3.3, 1. ],\n",
       "       [6.6, 2.9, 4.6, 1.3],\n",
       "       [5.2, 2.7, 3.9, 1.4],\n",
       "       [5. , 2. , 3.5, 1. ],\n",
       "       [5.9, 3. , 4.2, 1.5],\n",
       "       [6. , 2.2, 4. , 1. ],\n",
       "       [6.1, 2.9, 4.7, 1.4],\n",
       "       [5.6, 2.9, 3.6, 1.3],\n",
       "       [6.7, 3.1, 4.4, 1.4],\n",
       "       [5.6, 3. , 4.5, 1.5],\n",
       "       [5.8, 2.7, 4.1, 1. ],\n",
       "       [6.2, 2.2, 4.5, 1.5],\n",
       "       [5.6, 2.5, 3.9, 1.1],\n",
       "       [5.9, 3.2, 4.8, 1.8],\n",
       "       [6.1, 2.8, 4. , 1.3],\n",
       "       [6.3, 2.5, 4.9, 1.5],\n",
       "       [6.1, 2.8, 4.7, 1.2],\n",
       "       [6.4, 2.9, 4.3, 1.3],\n",
       "       [6.6, 3. , 4.4, 1.4],\n",
       "       [6.8, 2.8, 4.8, 1.4],\n",
       "       [6.7, 3. , 5. , 1.7],\n",
       "       [6. , 2.9, 4.5, 1.5],\n",
       "       [5.7, 2.6, 3.5, 1. ],\n",
       "       [5.5, 2.4, 3.8, 1.1],\n",
       "       [5.5, 2.4, 3.7, 1. ],\n",
       "       [5.8, 2.7, 3.9, 1.2],\n",
       "       [6. , 2.7, 5.1, 1.6],\n",
       "       [5.4, 3. , 4.5, 1.5],\n",
       "       [6. , 3.4, 4.5, 1.6],\n",
       "       [6.7, 3.1, 4.7, 1.5],\n",
       "       [6.3, 2.3, 4.4, 1.3],\n",
       "       [5.6, 3. , 4.1, 1.3],\n",
       "       [5.5, 2.5, 4. , 1.3],\n",
       "       [5.5, 2.6, 4.4, 1.2],\n",
       "       [6.1, 3. , 4.6, 1.4],\n",
       "       [5.8, 2.6, 4. , 1.2],\n",
       "       [5. , 2.3, 3.3, 1. ],\n",
       "       [5.6, 2.7, 4.2, 1.3],\n",
       "       [5.7, 3. , 4.2, 1.2],\n",
       "       [5.7, 2.9, 4.2, 1.3],\n",
       "       [6.2, 2.9, 4.3, 1.3],\n",
       "       [5.1, 2.5, 3. , 1.1],\n",
       "       [5.7, 2.8, 4.1, 1.3],\n",
       "       [6.3, 3.3, 6. , 2.5],\n",
       "       [5.8, 2.7, 5.1, 1.9],\n",
       "       [7.1, 3. , 5.9, 2.1],\n",
       "       [6.3, 2.9, 5.6, 1.8],\n",
       "       [6.5, 3. , 5.8, 2.2],\n",
       "       [7.6, 3. , 6.6, 2.1],\n",
       "       [4.9, 2.5, 4.5, 1.7],\n",
       "       [7.3, 2.9, 6.3, 1.8],\n",
       "       [6.7, 2.5, 5.8, 1.8],\n",
       "       [7.2, 3.6, 6.1, 2.5],\n",
       "       [6.5, 3.2, 5.1, 2. ],\n",
       "       [6.4, 2.7, 5.3, 1.9],\n",
       "       [6.8, 3. , 5.5, 2.1],\n",
       "       [5.7, 2.5, 5. , 2. ],\n",
       "       [5.8, 2.8, 5.1, 2.4],\n",
       "       [6.4, 3.2, 5.3, 2.3],\n",
       "       [6.5, 3. , 5.5, 1.8],\n",
       "       [7.7, 3.8, 6.7, 2.2],\n",
       "       [7.7, 2.6, 6.9, 2.3],\n",
       "       [6. , 2.2, 5. , 1.5],\n",
       "       [6.9, 3.2, 5.7, 2.3],\n",
       "       [5.6, 2.8, 4.9, 2. ],\n",
       "       [7.7, 2.8, 6.7, 2. ],\n",
       "       [6.3, 2.7, 4.9, 1.8],\n",
       "       [6.7, 3.3, 5.7, 2.1],\n",
       "       [7.2, 3.2, 6. , 1.8],\n",
       "       [6.2, 2.8, 4.8, 1.8],\n",
       "       [6.1, 3. , 4.9, 1.8],\n",
       "       [6.4, 2.8, 5.6, 2.1],\n",
       "       [7.2, 3. , 5.8, 1.6],\n",
       "       [7.4, 2.8, 6.1, 1.9],\n",
       "       [7.9, 3.8, 6.4, 2. ],\n",
       "       [6.4, 2.8, 5.6, 2.2],\n",
       "       [6.3, 2.8, 5.1, 1.5],\n",
       "       [6.1, 2.6, 5.6, 1.4],\n",
       "       [7.7, 3. , 6.1, 2.3],\n",
       "       [6.3, 3.4, 5.6, 2.4],\n",
       "       [6.4, 3.1, 5.5, 1.8],\n",
       "       [6. , 3. , 4.8, 1.8],\n",
       "       [6.9, 3.1, 5.4, 2.1],\n",
       "       [6.7, 3.1, 5.6, 2.4],\n",
       "       [6.9, 3.1, 5.1, 2.3],\n",
       "       [5.8, 2.7, 5.1, 1.9],\n",
       "       [6.8, 3.2, 5.9, 2.3],\n",
       "       [6.7, 3.3, 5.7, 2.5],\n",
       "       [6.7, 3. , 5.2, 2.3],\n",
       "       [6.3, 2.5, 5. , 1.9],\n",
       "       [6.5, 3. , 5.2, 2. ],\n",
       "       [6.2, 3.4, 5.4, 2.3],\n",
       "       [5.9, 3. , 5.1, 1.8]])"
      ]
     },
     "execution_count": 7,
     "metadata": {},
     "output_type": "execute_result"
    }
   ],
   "source": [
    "X"
   ]
  },
  {
   "cell_type": "code",
   "execution_count": 8,
   "metadata": {},
   "outputs": [],
   "source": [
    "X_train, X_test, y_train, y_test = train_test_split(X,y,test_size=0.25, random_state=20)"
   ]
  },
  {
   "cell_type": "code",
   "execution_count": 32,
   "metadata": {},
   "outputs": [],
   "source": [
    "le1 = LabelEncoder()\n",
    "le2 = LabelEncoder()\n",
    "le3 = LabelEncoder()"
   ]
  },
  {
   "cell_type": "markdown",
   "metadata": {},
   "source": [
    "### Here all the values are continuous values so we are using Gaussian Naive Bayes"
   ]
  },
  {
   "cell_type": "code",
   "execution_count": 10,
   "metadata": {},
   "outputs": [],
   "source": [
    "from sklearn.naive_bayes import GaussianNB"
   ]
  },
  {
   "cell_type": "code",
   "execution_count": 11,
   "metadata": {},
   "outputs": [],
   "source": [
    "gnb = GaussianNB()"
   ]
  },
  {
   "cell_type": "code",
   "execution_count": 12,
   "metadata": {},
   "outputs": [
    {
     "data": {
      "text/html": [
       "<style>#sk-container-id-1 {color: black;background-color: white;}#sk-container-id-1 pre{padding: 0;}#sk-container-id-1 div.sk-toggleable {background-color: white;}#sk-container-id-1 label.sk-toggleable__label {cursor: pointer;display: block;width: 100%;margin-bottom: 0;padding: 0.3em;box-sizing: border-box;text-align: center;}#sk-container-id-1 label.sk-toggleable__label-arrow:before {content: \"▸\";float: left;margin-right: 0.25em;color: #696969;}#sk-container-id-1 label.sk-toggleable__label-arrow:hover:before {color: black;}#sk-container-id-1 div.sk-estimator:hover label.sk-toggleable__label-arrow:before {color: black;}#sk-container-id-1 div.sk-toggleable__content {max-height: 0;max-width: 0;overflow: hidden;text-align: left;background-color: #f0f8ff;}#sk-container-id-1 div.sk-toggleable__content pre {margin: 0.2em;color: black;border-radius: 0.25em;background-color: #f0f8ff;}#sk-container-id-1 input.sk-toggleable__control:checked~div.sk-toggleable__content {max-height: 200px;max-width: 100%;overflow: auto;}#sk-container-id-1 input.sk-toggleable__control:checked~label.sk-toggleable__label-arrow:before {content: \"▾\";}#sk-container-id-1 div.sk-estimator input.sk-toggleable__control:checked~label.sk-toggleable__label {background-color: #d4ebff;}#sk-container-id-1 div.sk-label input.sk-toggleable__control:checked~label.sk-toggleable__label {background-color: #d4ebff;}#sk-container-id-1 input.sk-hidden--visually {border: 0;clip: rect(1px 1px 1px 1px);clip: rect(1px, 1px, 1px, 1px);height: 1px;margin: -1px;overflow: hidden;padding: 0;position: absolute;width: 1px;}#sk-container-id-1 div.sk-estimator {font-family: monospace;background-color: #f0f8ff;border: 1px dotted black;border-radius: 0.25em;box-sizing: border-box;margin-bottom: 0.5em;}#sk-container-id-1 div.sk-estimator:hover {background-color: #d4ebff;}#sk-container-id-1 div.sk-parallel-item::after {content: \"\";width: 100%;border-bottom: 1px solid gray;flex-grow: 1;}#sk-container-id-1 div.sk-label:hover label.sk-toggleable__label {background-color: #d4ebff;}#sk-container-id-1 div.sk-serial::before {content: \"\";position: absolute;border-left: 1px solid gray;box-sizing: border-box;top: 0;bottom: 0;left: 50%;z-index: 0;}#sk-container-id-1 div.sk-serial {display: flex;flex-direction: column;align-items: center;background-color: white;padding-right: 0.2em;padding-left: 0.2em;position: relative;}#sk-container-id-1 div.sk-item {position: relative;z-index: 1;}#sk-container-id-1 div.sk-parallel {display: flex;align-items: stretch;justify-content: center;background-color: white;position: relative;}#sk-container-id-1 div.sk-item::before, #sk-container-id-1 div.sk-parallel-item::before {content: \"\";position: absolute;border-left: 1px solid gray;box-sizing: border-box;top: 0;bottom: 0;left: 50%;z-index: -1;}#sk-container-id-1 div.sk-parallel-item {display: flex;flex-direction: column;z-index: 1;position: relative;background-color: white;}#sk-container-id-1 div.sk-parallel-item:first-child::after {align-self: flex-end;width: 50%;}#sk-container-id-1 div.sk-parallel-item:last-child::after {align-self: flex-start;width: 50%;}#sk-container-id-1 div.sk-parallel-item:only-child::after {width: 0;}#sk-container-id-1 div.sk-dashed-wrapped {border: 1px dashed gray;margin: 0 0.4em 0.5em 0.4em;box-sizing: border-box;padding-bottom: 0.4em;background-color: white;}#sk-container-id-1 div.sk-label label {font-family: monospace;font-weight: bold;display: inline-block;line-height: 1.2em;}#sk-container-id-1 div.sk-label-container {text-align: center;}#sk-container-id-1 div.sk-container {/* jupyter's `normalize.less` sets `[hidden] { display: none; }` but bootstrap.min.css set `[hidden] { display: none !important; }` so we also need the `!important` here to be able to override the default hidden behavior on the sphinx rendered scikit-learn.org. See: https://github.com/scikit-learn/scikit-learn/issues/21755 */display: inline-block !important;position: relative;}#sk-container-id-1 div.sk-text-repr-fallback {display: none;}</style><div id=\"sk-container-id-1\" class=\"sk-top-container\"><div class=\"sk-text-repr-fallback\"><pre>GaussianNB()</pre><b>In a Jupyter environment, please rerun this cell to show the HTML representation or trust the notebook. <br />On GitHub, the HTML representation is unable to render, please try loading this page with nbviewer.org.</b></div><div class=\"sk-container\" hidden><div class=\"sk-item\"><div class=\"sk-estimator sk-toggleable\"><input class=\"sk-toggleable__control sk-hidden--visually\" id=\"sk-estimator-id-1\" type=\"checkbox\" checked><label for=\"sk-estimator-id-1\" class=\"sk-toggleable__label sk-toggleable__label-arrow\">GaussianNB</label><div class=\"sk-toggleable__content\"><pre>GaussianNB()</pre></div></div></div></div></div>"
      ],
      "text/plain": [
       "GaussianNB()"
      ]
     },
     "execution_count": 12,
     "metadata": {},
     "output_type": "execute_result"
    }
   ],
   "source": [
    "gnb.fit(X_train,y_train)"
   ]
  },
  {
   "cell_type": "code",
   "execution_count": 14,
   "metadata": {},
   "outputs": [],
   "source": [
    "y_pred = gnb.predict(X_test)"
   ]
  },
  {
   "cell_type": "code",
   "execution_count": 15,
   "metadata": {},
   "outputs": [],
   "source": [
    "from sklearn.metrics import accuracy_score, classification_report, confusion_matrix"
   ]
  },
  {
   "cell_type": "code",
   "execution_count": 16,
   "metadata": {},
   "outputs": [
    {
     "name": "stdout",
     "output_type": "stream",
     "text": [
      "[[12  0  0]\n",
      " [ 0 14  0]\n",
      " [ 0  3  9]]\n",
      "0.9210526315789473\n",
      "              precision    recall  f1-score   support\n",
      "\n",
      "           0       1.00      1.00      1.00        12\n",
      "           1       0.82      1.00      0.90        14\n",
      "           2       1.00      0.75      0.86        12\n",
      "\n",
      "    accuracy                           0.92        38\n",
      "   macro avg       0.94      0.92      0.92        38\n",
      "weighted avg       0.93      0.92      0.92        38\n",
      "\n"
     ]
    }
   ],
   "source": [
    "print(confusion_matrix(y_test,y_pred))\n",
    "print(accuracy_score(y_test,y_pred))\n",
    "print(classification_report(y_test,y_pred))"
   ]
  },
  {
   "cell_type": "markdown",
   "metadata": {},
   "source": [
    "## TIPS Dataset"
   ]
  },
  {
   "cell_type": "code",
   "execution_count": 17,
   "metadata": {},
   "outputs": [],
   "source": [
    "import seaborn as sns"
   ]
  },
  {
   "cell_type": "code",
   "execution_count": 19,
   "metadata": {},
   "outputs": [],
   "source": [
    "df = sns.load_dataset('tips')"
   ]
  },
  {
   "cell_type": "code",
   "execution_count": 20,
   "metadata": {},
   "outputs": [
    {
     "data": {
      "text/html": [
       "<div>\n",
       "<style scoped>\n",
       "    .dataframe tbody tr th:only-of-type {\n",
       "        vertical-align: middle;\n",
       "    }\n",
       "\n",
       "    .dataframe tbody tr th {\n",
       "        vertical-align: top;\n",
       "    }\n",
       "\n",
       "    .dataframe thead th {\n",
       "        text-align: right;\n",
       "    }\n",
       "</style>\n",
       "<table border=\"1\" class=\"dataframe\">\n",
       "  <thead>\n",
       "    <tr style=\"text-align: right;\">\n",
       "      <th></th>\n",
       "      <th>total_bill</th>\n",
       "      <th>tip</th>\n",
       "      <th>sex</th>\n",
       "      <th>smoker</th>\n",
       "      <th>day</th>\n",
       "      <th>time</th>\n",
       "      <th>size</th>\n",
       "    </tr>\n",
       "  </thead>\n",
       "  <tbody>\n",
       "    <tr>\n",
       "      <th>0</th>\n",
       "      <td>16.99</td>\n",
       "      <td>1.01</td>\n",
       "      <td>Female</td>\n",
       "      <td>No</td>\n",
       "      <td>Sun</td>\n",
       "      <td>Dinner</td>\n",
       "      <td>2</td>\n",
       "    </tr>\n",
       "    <tr>\n",
       "      <th>1</th>\n",
       "      <td>10.34</td>\n",
       "      <td>1.66</td>\n",
       "      <td>Male</td>\n",
       "      <td>No</td>\n",
       "      <td>Sun</td>\n",
       "      <td>Dinner</td>\n",
       "      <td>3</td>\n",
       "    </tr>\n",
       "    <tr>\n",
       "      <th>2</th>\n",
       "      <td>21.01</td>\n",
       "      <td>3.50</td>\n",
       "      <td>Male</td>\n",
       "      <td>No</td>\n",
       "      <td>Sun</td>\n",
       "      <td>Dinner</td>\n",
       "      <td>3</td>\n",
       "    </tr>\n",
       "    <tr>\n",
       "      <th>3</th>\n",
       "      <td>23.68</td>\n",
       "      <td>3.31</td>\n",
       "      <td>Male</td>\n",
       "      <td>No</td>\n",
       "      <td>Sun</td>\n",
       "      <td>Dinner</td>\n",
       "      <td>2</td>\n",
       "    </tr>\n",
       "    <tr>\n",
       "      <th>4</th>\n",
       "      <td>24.59</td>\n",
       "      <td>3.61</td>\n",
       "      <td>Female</td>\n",
       "      <td>No</td>\n",
       "      <td>Sun</td>\n",
       "      <td>Dinner</td>\n",
       "      <td>4</td>\n",
       "    </tr>\n",
       "  </tbody>\n",
       "</table>\n",
       "</div>"
      ],
      "text/plain": [
       "   total_bill   tip     sex smoker  day    time  size\n",
       "0       16.99  1.01  Female     No  Sun  Dinner     2\n",
       "1       10.34  1.66    Male     No  Sun  Dinner     3\n",
       "2       21.01  3.50    Male     No  Sun  Dinner     3\n",
       "3       23.68  3.31    Male     No  Sun  Dinner     2\n",
       "4       24.59  3.61  Female     No  Sun  Dinner     4"
      ]
     },
     "execution_count": 20,
     "metadata": {},
     "output_type": "execute_result"
    }
   ],
   "source": [
    "df.head()"
   ]
  },
  {
   "cell_type": "code",
   "execution_count": 21,
   "metadata": {},
   "outputs": [
    {
     "name": "stdout",
     "output_type": "stream",
     "text": [
      "<class 'pandas.core.frame.DataFrame'>\n",
      "RangeIndex: 244 entries, 0 to 243\n",
      "Data columns (total 7 columns):\n",
      " #   Column      Non-Null Count  Dtype   \n",
      "---  ------      --------------  -----   \n",
      " 0   total_bill  244 non-null    float64 \n",
      " 1   tip         244 non-null    float64 \n",
      " 2   sex         244 non-null    category\n",
      " 3   smoker      244 non-null    category\n",
      " 4   day         244 non-null    category\n",
      " 5   time        244 non-null    category\n",
      " 6   size        244 non-null    int64   \n",
      "dtypes: category(4), float64(2), int64(1)\n",
      "memory usage: 7.4 KB\n"
     ]
    }
   ],
   "source": [
    "df.info()"
   ]
  },
  {
   "cell_type": "code",
   "execution_count": 25,
   "metadata": {},
   "outputs": [
    {
     "data": {
      "text/plain": [
       "Male      157\n",
       "Female     87\n",
       "Name: sex, dtype: int64"
      ]
     },
     "execution_count": 25,
     "metadata": {},
     "output_type": "execute_result"
    }
   ],
   "source": [
    "df['sex'].value_counts()"
   ]
  },
  {
   "cell_type": "code",
   "execution_count": 26,
   "metadata": {},
   "outputs": [
    {
     "data": {
      "text/plain": [
       "No     151\n",
       "Yes     93\n",
       "Name: smoker, dtype: int64"
      ]
     },
     "execution_count": 26,
     "metadata": {},
     "output_type": "execute_result"
    }
   ],
   "source": [
    "df['smoker'].value_counts()"
   ]
  },
  {
   "cell_type": "code",
   "execution_count": 27,
   "metadata": {},
   "outputs": [
    {
     "data": {
      "text/plain": [
       "Dinner    176\n",
       "Lunch      68\n",
       "Name: time, dtype: int64"
      ]
     },
     "execution_count": 27,
     "metadata": {},
     "output_type": "execute_result"
    }
   ],
   "source": [
    "df['time'].value_counts()"
   ]
  },
  {
   "cell_type": "code",
   "execution_count": 28,
   "metadata": {},
   "outputs": [
    {
     "data": {
      "text/plain": [
       "Sat     87\n",
       "Sun     76\n",
       "Thur    62\n",
       "Fri     19\n",
       "Name: day, dtype: int64"
      ]
     },
     "execution_count": 28,
     "metadata": {},
     "output_type": "execute_result"
    }
   ],
   "source": [
    "df['day'].value_counts()"
   ]
  },
  {
   "cell_type": "code",
   "execution_count": 29,
   "metadata": {},
   "outputs": [],
   "source": [
    "# performimg encoding for categorical columns\n",
    "\n",
    "from sklearn.preprocessing import LabelEncoder"
   ]
  },
  {
   "cell_type": "code",
   "execution_count": 61,
   "metadata": {},
   "outputs": [],
   "source": [
    "# Segregating independent and dependent features\n",
    "\n",
    "X = df[['tip', 'sex', 'smoker', 'day', 'time', 'total_bill']] # 2D array for X \n",
    "y = df['size'] # 1D array for y"
   ]
  },
  {
   "cell_type": "code",
   "execution_count": 62,
   "metadata": {},
   "outputs": [],
   "source": [
    "from sklearn.model_selection import train_test_split\n",
    "X_train,X_test,y_train,y_test = train_test_split(X,y,test_size=0.25, random_state=42)"
   ]
  },
  {
   "cell_type": "code",
   "execution_count": 63,
   "metadata": {},
   "outputs": [],
   "source": [
    "le1 = LabelEncoder()\n",
    "le2 = LabelEncoder()\n",
    "le3 = LabelEncoder()"
   ]
  },
  {
   "cell_type": "code",
   "execution_count": 64,
   "metadata": {},
   "outputs": [],
   "source": [
    "#label encodig for training data\n",
    "# using fit transform for training data\n",
    "X_train['sex'] = le1.fit_transform(X_train['sex'])\n",
    "X_train['smoker'] = le2.fit_transform(X_train['smoker'])\n",
    "X_train['time'] = le3.fit_transform(X_train['time'])"
   ]
  },
  {
   "cell_type": "code",
   "execution_count": 65,
   "metadata": {},
   "outputs": [
    {
     "data": {
      "text/html": [
       "<div>\n",
       "<style scoped>\n",
       "    .dataframe tbody tr th:only-of-type {\n",
       "        vertical-align: middle;\n",
       "    }\n",
       "\n",
       "    .dataframe tbody tr th {\n",
       "        vertical-align: top;\n",
       "    }\n",
       "\n",
       "    .dataframe thead th {\n",
       "        text-align: right;\n",
       "    }\n",
       "</style>\n",
       "<table border=\"1\" class=\"dataframe\">\n",
       "  <thead>\n",
       "    <tr style=\"text-align: right;\">\n",
       "      <th></th>\n",
       "      <th>tip</th>\n",
       "      <th>sex</th>\n",
       "      <th>smoker</th>\n",
       "      <th>day</th>\n",
       "      <th>time</th>\n",
       "      <th>total_bill</th>\n",
       "    </tr>\n",
       "  </thead>\n",
       "  <tbody>\n",
       "    <tr>\n",
       "      <th>115</th>\n",
       "      <td>3.50</td>\n",
       "      <td>0</td>\n",
       "      <td>0</td>\n",
       "      <td>Sun</td>\n",
       "      <td>0</td>\n",
       "      <td>17.31</td>\n",
       "    </tr>\n",
       "    <tr>\n",
       "      <th>181</th>\n",
       "      <td>5.65</td>\n",
       "      <td>1</td>\n",
       "      <td>1</td>\n",
       "      <td>Sun</td>\n",
       "      <td>0</td>\n",
       "      <td>23.33</td>\n",
       "    </tr>\n",
       "    <tr>\n",
       "      <th>225</th>\n",
       "      <td>2.50</td>\n",
       "      <td>0</td>\n",
       "      <td>1</td>\n",
       "      <td>Fri</td>\n",
       "      <td>1</td>\n",
       "      <td>16.27</td>\n",
       "    </tr>\n",
       "    <tr>\n",
       "      <th>68</th>\n",
       "      <td>2.01</td>\n",
       "      <td>1</td>\n",
       "      <td>0</td>\n",
       "      <td>Sat</td>\n",
       "      <td>0</td>\n",
       "      <td>20.23</td>\n",
       "    </tr>\n",
       "    <tr>\n",
       "      <th>104</th>\n",
       "      <td>4.08</td>\n",
       "      <td>0</td>\n",
       "      <td>0</td>\n",
       "      <td>Sat</td>\n",
       "      <td>0</td>\n",
       "      <td>20.92</td>\n",
       "    </tr>\n",
       "  </tbody>\n",
       "</table>\n",
       "</div>"
      ],
      "text/plain": [
       "      tip  sex  smoker  day  time  total_bill\n",
       "115  3.50    0       0  Sun     0       17.31\n",
       "181  5.65    1       1  Sun     0       23.33\n",
       "225  2.50    0       1  Fri     1       16.27\n",
       "68   2.01    1       0  Sat     0       20.23\n",
       "104  4.08    0       0  Sat     0       20.92"
      ]
     },
     "execution_count": 65,
     "metadata": {},
     "output_type": "execute_result"
    }
   ],
   "source": [
    "X_train.head()"
   ]
  },
  {
   "cell_type": "code",
   "execution_count": 66,
   "metadata": {},
   "outputs": [],
   "source": [
    "#label encodig for testing data\n",
    "# using transform for testing data\n",
    "X_test['sex'] = le1.transform(X_test['sex'])\n",
    "X_test['smoker'] = le2.transform(X_test['smoker'])\n",
    "X_test['time'] = le3.transform(X_test['time'])"
   ]
  },
  {
   "cell_type": "code",
   "execution_count": 67,
   "metadata": {},
   "outputs": [
    {
     "data": {
      "text/html": [
       "<div>\n",
       "<style scoped>\n",
       "    .dataframe tbody tr th:only-of-type {\n",
       "        vertical-align: middle;\n",
       "    }\n",
       "\n",
       "    .dataframe tbody tr th {\n",
       "        vertical-align: top;\n",
       "    }\n",
       "\n",
       "    .dataframe thead th {\n",
       "        text-align: right;\n",
       "    }\n",
       "</style>\n",
       "<table border=\"1\" class=\"dataframe\">\n",
       "  <thead>\n",
       "    <tr style=\"text-align: right;\">\n",
       "      <th></th>\n",
       "      <th>tip</th>\n",
       "      <th>sex</th>\n",
       "      <th>smoker</th>\n",
       "      <th>day</th>\n",
       "      <th>time</th>\n",
       "      <th>total_bill</th>\n",
       "    </tr>\n",
       "  </thead>\n",
       "  <tbody>\n",
       "    <tr>\n",
       "      <th>24</th>\n",
       "      <td>3.18</td>\n",
       "      <td>1</td>\n",
       "      <td>0</td>\n",
       "      <td>Sat</td>\n",
       "      <td>0</td>\n",
       "      <td>19.82</td>\n",
       "    </tr>\n",
       "    <tr>\n",
       "      <th>6</th>\n",
       "      <td>2.00</td>\n",
       "      <td>1</td>\n",
       "      <td>0</td>\n",
       "      <td>Sun</td>\n",
       "      <td>0</td>\n",
       "      <td>8.77</td>\n",
       "    </tr>\n",
       "    <tr>\n",
       "      <th>153</th>\n",
       "      <td>2.00</td>\n",
       "      <td>1</td>\n",
       "      <td>0</td>\n",
       "      <td>Sun</td>\n",
       "      <td>0</td>\n",
       "      <td>24.55</td>\n",
       "    </tr>\n",
       "    <tr>\n",
       "      <th>211</th>\n",
       "      <td>5.16</td>\n",
       "      <td>1</td>\n",
       "      <td>1</td>\n",
       "      <td>Sat</td>\n",
       "      <td>0</td>\n",
       "      <td>25.89</td>\n",
       "    </tr>\n",
       "    <tr>\n",
       "      <th>198</th>\n",
       "      <td>2.00</td>\n",
       "      <td>0</td>\n",
       "      <td>1</td>\n",
       "      <td>Thur</td>\n",
       "      <td>1</td>\n",
       "      <td>13.00</td>\n",
       "    </tr>\n",
       "  </tbody>\n",
       "</table>\n",
       "</div>"
      ],
      "text/plain": [
       "      tip  sex  smoker   day  time  total_bill\n",
       "24   3.18    1       0   Sat     0       19.82\n",
       "6    2.00    1       0   Sun     0        8.77\n",
       "153  2.00    1       0   Sun     0       24.55\n",
       "211  5.16    1       1   Sat     0       25.89\n",
       "198  2.00    0       1  Thur     1       13.00"
      ]
     },
     "execution_count": 67,
     "metadata": {},
     "output_type": "execute_result"
    }
   ],
   "source": [
    "X_test.head()"
   ]
  },
  {
   "cell_type": "code",
   "execution_count": 68,
   "metadata": {},
   "outputs": [],
   "source": [
    "# performing one hot encoding for day column\n",
    "from sklearn.compose import ColumnTransformer\n",
    "from sklearn.preprocessing import OneHotEncoder"
   ]
  },
  {
   "cell_type": "code",
   "execution_count": 69,
   "metadata": {},
   "outputs": [],
   "source": [
    "ct = ColumnTransformer(transformers=[('onehot', OneHotEncoder(drop='first'),[3])], remainder='passthrough') # [3] defines the 3rd column in dataset"
   ]
  },
  {
   "cell_type": "code",
   "execution_count": 70,
   "metadata": {},
   "outputs": [],
   "source": [
    "import sys \n",
    "import numpy\n",
    "numpy.set_printoptions(threshold=sys.maxsize)\n",
    "X_train = ct.fit_transform(X_train)"
   ]
  },
  {
   "cell_type": "code",
   "execution_count": 71,
   "metadata": {},
   "outputs": [
    {
     "data": {
      "text/plain": [
       "array([[ 0.  ,  1.  ,  0.  ,  3.5 ,  0.  ,  0.  ,  0.  , 17.31],\n",
       "       [ 0.  ,  1.  ,  0.  ,  5.65,  1.  ,  1.  ,  0.  , 23.33],\n",
       "       [ 0.  ,  0.  ,  0.  ,  2.5 ,  0.  ,  1.  ,  1.  , 16.27],\n",
       "       [ 1.  ,  0.  ,  0.  ,  2.01,  1.  ,  0.  ,  0.  , 20.23],\n",
       "       [ 1.  ,  0.  ,  0.  ,  4.08,  0.  ,  0.  ,  0.  , 20.92],\n",
       "       [ 1.  ,  0.  ,  0.  ,  2.09,  1.  ,  1.  ,  0.  , 15.01],\n",
       "       [ 1.  ,  0.  ,  0.  ,  1.  ,  0.  ,  0.  ,  0.  ,  7.25],\n",
       "       [ 1.  ,  0.  ,  0.  ,  3.41,  1.  ,  1.  ,  0.  , 26.59],\n",
       "       [ 0.  ,  1.  ,  0.  ,  3.48,  1.  ,  0.  ,  0.  , 24.52],\n",
       "       [ 0.  ,  1.  ,  0.  ,  2.  ,  1.  ,  0.  ,  0.  , 19.77],\n",
       "       [ 1.  ,  0.  ,  0.  ,  3.  ,  1.  ,  1.  ,  0.  , 28.15],\n",
       "       [ 0.  ,  0.  ,  1.  ,  2.71,  1.  ,  0.  ,  1.  , 17.29],\n",
       "       [ 1.  ,  0.  ,  0.  ,  3.  ,  0.  ,  0.  ,  0.  , 19.65],\n",
       "       [ 1.  ,  0.  ,  0.  ,  3.  ,  1.  ,  1.  ,  0.  , 15.53],\n",
       "       [ 1.  ,  0.  ,  0.  ,  3.  ,  1.  ,  0.  ,  0.  , 20.45],\n",
       "       [ 0.  ,  1.  ,  0.  ,  3.68,  1.  ,  1.  ,  0.  , 34.65],\n",
       "       [ 0.  ,  1.  ,  0.  ,  4.71,  1.  ,  0.  ,  0.  , 25.29],\n",
       "       [ 1.  ,  0.  ,  0.  ,  3.  ,  1.  ,  1.  ,  0.  , 38.01],\n",
       "       [ 0.  ,  0.  ,  1.  ,  4.2 ,  0.  ,  0.  ,  1.  , 29.8 ],\n",
       "       [ 0.  ,  0.  ,  1.  ,  1.73,  1.  ,  0.  ,  1.  ,  9.78],\n",
       "       [ 0.  ,  1.  ,  0.  ,  4.  ,  0.  ,  0.  ,  0.  , 25.71],\n",
       "       [ 1.  ,  0.  ,  0.  ,  3.15,  1.  ,  0.  ,  0.  , 20.08],\n",
       "       [ 0.  ,  0.  ,  1.  ,  1.5 ,  0.  ,  0.  ,  1.  , 11.17],\n",
       "       [ 1.  ,  0.  ,  0.  ,  3.  ,  1.  ,  1.  ,  0.  , 38.73],\n",
       "       [ 0.  ,  1.  ,  0.  ,  2.  ,  0.  ,  0.  ,  0.  , 16.21],\n",
       "       [ 1.  ,  0.  ,  0.  ,  2.5 ,  1.  ,  0.  ,  0.  , 18.35],\n",
       "       [ 0.  ,  1.  ,  0.  ,  1.57,  1.  ,  0.  ,  0.  , 15.42],\n",
       "       [ 1.  ,  0.  ,  0.  ,  3.6 ,  1.  ,  0.  ,  0.  , 24.06],\n",
       "       [ 1.  ,  0.  ,  0.  ,  4.3 ,  1.  ,  0.  ,  0.  , 21.7 ],\n",
       "       [ 0.  ,  1.  ,  0.  ,  3.06,  1.  ,  0.  ,  0.  , 13.94],\n",
       "       [ 1.  ,  0.  ,  0.  ,  5.92,  1.  ,  0.  ,  0.  , 29.03],\n",
       "       [ 0.  ,  0.  ,  1.  ,  1.48,  1.  ,  0.  ,  1.  ,  8.52],\n",
       "       [ 0.  ,  0.  ,  0.  ,  4.3 ,  0.  ,  1.  ,  0.  , 16.32],\n",
       "       [ 0.  ,  1.  ,  0.  ,  3.  ,  0.  ,  1.  ,  0.  , 17.51],\n",
       "       [ 0.  ,  1.  ,  0.  ,  2.6 ,  0.  ,  0.  ,  0.  , 10.29],\n",
       "       [ 0.  ,  0.  ,  0.  ,  4.73,  1.  ,  1.  ,  0.  , 40.17],\n",
       "       [ 0.  ,  0.  ,  1.  ,  3.5 ,  0.  ,  0.  ,  1.  , 17.47],\n",
       "       [ 0.  ,  0.  ,  1.  ,  4.  ,  1.  ,  1.  ,  1.  , 16.58],\n",
       "       [ 1.  ,  0.  ,  0.  ,  3.08,  1.  ,  1.  ,  0.  , 17.92],\n",
       "       [ 0.  ,  1.  ,  0.  ,  2.54,  1.  ,  0.  ,  0.  , 17.46],\n",
       "       [ 1.  ,  0.  ,  0.  ,  3.76,  1.  ,  0.  ,  0.  , 18.24],\n",
       "       [ 0.  ,  0.  ,  0.  ,  3.  ,  0.  ,  0.  ,  1.  , 15.98],\n",
       "       [ 0.  ,  0.  ,  1.  ,  3.  ,  1.  ,  0.  ,  1.  , 22.76],\n",
       "       [ 0.  ,  0.  ,  1.  ,  2.3 ,  0.  ,  0.  ,  1.  , 16.43],\n",
       "       [ 1.  ,  0.  ,  0.  ,  2.  ,  1.  ,  0.  ,  0.  , 13.37],\n",
       "       [ 1.  ,  0.  ,  0.  ,  1.25,  1.  ,  0.  ,  0.  , 10.07],\n",
       "       [ 1.  ,  0.  ,  0.  ,  2.5 ,  0.  ,  1.  ,  0.  , 13.27],\n",
       "       [ 0.  ,  1.  ,  0.  ,  6.5 ,  1.  ,  1.  ,  0.  , 23.17],\n",
       "       [ 0.  ,  0.  ,  1.  ,  2.02,  1.  ,  1.  ,  1.  , 15.48],\n",
       "       [ 0.  ,  1.  ,  0.  ,  1.01,  0.  ,  0.  ,  0.  , 16.99],\n",
       "       [ 0.  ,  1.  ,  0.  ,  3.5 ,  1.  ,  0.  ,  0.  , 21.01],\n",
       "       [ 0.  ,  0.  ,  1.  ,  4.  ,  1.  ,  0.  ,  1.  , 27.2 ],\n",
       "       [ 0.  ,  1.  ,  0.  ,  5.  ,  1.  ,  0.  ,  0.  , 22.23],\n",
       "       [ 0.  ,  0.  ,  0.  ,  2.5 ,  0.  ,  1.  ,  0.  , 11.35],\n",
       "       [ 0.  ,  0.  ,  1.  ,  2.  ,  0.  ,  0.  ,  1.  , 14.15],\n",
       "       [ 0.  ,  0.  ,  1.  ,  1.63,  0.  ,  0.  ,  1.  , 11.87],\n",
       "       [ 0.  ,  1.  ,  0.  ,  3.11,  1.  ,  1.  ,  0.  , 32.9 ],\n",
       "       [ 0.  ,  0.  ,  0.  ,  3.  ,  1.  ,  1.  ,  0.  , 28.97],\n",
       "       [ 0.  ,  0.  ,  1.  ,  5.17,  0.  ,  0.  ,  1.  , 34.83],\n",
       "       [ 1.  ,  0.  ,  0.  , 10.  ,  1.  ,  1.  ,  0.  , 50.81],\n",
       "       [ 0.  ,  1.  ,  0.  ,  2.5 ,  1.  ,  0.  ,  0.  , 12.66],\n",
       "       [ 0.  ,  0.  ,  0.  ,  3.  ,  1.  ,  1.  ,  0.  , 21.01],\n",
       "       [ 1.  ,  0.  ,  0.  ,  2.  ,  1.  ,  0.  ,  0.  , 16.31],\n",
       "       [ 0.  ,  0.  ,  1.  ,  5.  ,  0.  ,  0.  ,  1.  , 27.05],\n",
       "       [ 1.  ,  0.  ,  0.  ,  2.  ,  1.  ,  1.  ,  0.  , 13.81],\n",
       "       [ 1.  ,  0.  ,  0.  ,  2.23,  0.  ,  0.  ,  0.  , 15.77],\n",
       "       [ 0.  ,  0.  ,  1.  ,  1.8 ,  0.  ,  0.  ,  1.  , 12.43],\n",
       "       [ 0.  ,  1.  ,  0.  ,  2.61,  0.  ,  0.  ,  0.  , 13.39],\n",
       "       [ 0.  ,  0.  ,  1.  ,  2.  ,  0.  ,  0.  ,  1.  , 10.33],\n",
       "       [ 0.  ,  1.  ,  0.  ,  5.  ,  0.  ,  0.  ,  0.  , 35.26],\n",
       "       [ 1.  ,  0.  ,  0.  ,  4.67,  0.  ,  0.  ,  0.  , 35.83],\n",
       "       [ 1.  ,  0.  ,  0.  ,  2.  ,  1.  ,  0.  ,  0.  , 12.69],\n",
       "       [ 0.  ,  1.  ,  0.  ,  2.5 ,  1.  ,  0.  ,  0.  , 14.07],\n",
       "       [ 0.  ,  1.  ,  0.  ,  3.61,  0.  ,  0.  ,  0.  , 24.59],\n",
       "       [ 0.  ,  0.  ,  1.  ,  2.5 ,  1.  ,  0.  ,  1.  , 14.26],\n",
       "       [ 1.  ,  0.  ,  0.  ,  3.  ,  0.  ,  0.  ,  0.  , 15.06],\n",
       "       [ 0.  ,  0.  ,  1.  ,  6.7 ,  1.  ,  0.  ,  1.  , 34.3 ],\n",
       "       [ 0.  ,  1.  ,  0.  ,  3.18,  1.  ,  1.  ,  0.  , 31.85],\n",
       "       [ 0.  ,  0.  ,  1.  ,  2.  ,  1.  ,  1.  ,  1.  , 16.  ],\n",
       "       [ 1.  ,  0.  ,  0.  ,  1.98,  1.  ,  1.  ,  0.  , 11.02],\n",
       "       [ 0.  ,  0.  ,  1.  ,  1.25,  0.  ,  0.  ,  1.  ,  8.51],\n",
       "       [ 0.  ,  0.  ,  1.  ,  2.  ,  0.  ,  0.  ,  1.  , 11.38],\n",
       "       [ 0.  ,  0.  ,  0.  ,  2.2 ,  1.  ,  1.  ,  1.  , 12.16],\n",
       "       [ 0.  ,  1.  ,  0.  ,  3.  ,  1.  ,  1.  ,  0.  , 40.55],\n",
       "       [ 1.  ,  0.  ,  0.  ,  1.97,  1.  ,  0.  ,  0.  , 12.02],\n",
       "       [ 0.  ,  0.  ,  1.  ,  3.23,  0.  ,  1.  ,  1.  , 16.47],\n",
       "       [ 1.  ,  0.  ,  0.  ,  2.64,  1.  ,  0.  ,  0.  , 17.59],\n",
       "       [ 0.  ,  1.  ,  0.  ,  5.6 ,  1.  ,  0.  ,  0.  , 30.4 ],\n",
       "       [ 1.  ,  0.  ,  0.  ,  3.09,  0.  ,  1.  ,  0.  , 30.14],\n",
       "       [ 1.  ,  0.  ,  0.  ,  2.24,  1.  ,  0.  ,  0.  , 16.04],\n",
       "       [ 0.  ,  0.  ,  1.  ,  2.  ,  1.  ,  0.  ,  1.  , 15.95],\n",
       "       [ 1.  ,  0.  ,  0.  ,  7.58,  1.  ,  0.  ,  0.  , 39.42],\n",
       "       [ 0.  ,  1.  ,  0.  ,  3.5 ,  1.  ,  1.  ,  0.  , 45.35],\n",
       "       [ 0.  ,  1.  ,  0.  ,  4.  ,  0.  ,  1.  ,  0.  ,  9.6 ],\n",
       "       [ 0.  ,  0.  ,  1.  ,  3.4 ,  1.  ,  0.  ,  1.  , 16.66],\n",
       "       [ 1.  ,  0.  ,  0.  ,  5.  ,  1.  ,  0.  ,  0.  , 31.27],\n",
       "       [ 0.  ,  0.  ,  1.  ,  4.  ,  1.  ,  1.  ,  1.  , 20.53],\n",
       "       [ 0.  ,  1.  ,  0.  ,  6.  ,  1.  ,  0.  ,  0.  , 32.4 ],\n",
       "       [ 0.  ,  0.  ,  0.  ,  3.25,  0.  ,  0.  ,  0.  , 22.75],\n",
       "       [ 0.  ,  1.  ,  0.  ,  5.  ,  1.  ,  0.  ,  0.  , 20.69],\n",
       "       [ 0.  ,  1.  ,  0.  ,  1.32,  1.  ,  0.  ,  0.  ,  9.68],\n",
       "       [ 0.  ,  0.  ,  1.  ,  1.5 ,  0.  ,  0.  ,  1.  ,  8.35],\n",
       "       [ 0.  ,  1.  ,  0.  ,  1.5 ,  1.  ,  1.  ,  0.  , 15.69],\n",
       "       [ 0.  ,  1.  ,  0.  ,  3.31,  1.  ,  0.  ,  0.  , 23.68],\n",
       "       [ 1.  ,  0.  ,  0.  ,  1.64,  1.  ,  1.  ,  0.  , 15.36],\n",
       "       [ 0.  ,  1.  ,  0.  ,  1.56,  1.  ,  0.  ,  0.  ,  9.94],\n",
       "       [ 0.  ,  0.  ,  1.  ,  2.  ,  0.  ,  0.  ,  1.  , 12.26],\n",
       "       [ 0.  ,  0.  ,  0.  ,  3.48,  0.  ,  1.  ,  1.  , 13.42],\n",
       "       [ 1.  ,  0.  ,  0.  ,  1.17,  1.  ,  1.  ,  0.  , 32.83],\n",
       "       [ 0.  ,  0.  ,  0.  ,  2.  ,  0.  ,  1.  ,  1.  , 10.09],\n",
       "       [ 0.  ,  1.  ,  0.  ,  3.  ,  1.  ,  0.  ,  0.  , 18.04],\n",
       "       [ 0.  ,  1.  ,  0.  ,  2.  ,  1.  ,  0.  ,  0.  , 13.81],\n",
       "       [ 0.  ,  0.  ,  1.  ,  3.  ,  1.  ,  1.  ,  1.  , 19.44],\n",
       "       [ 1.  ,  0.  ,  0.  ,  3.27,  1.  ,  0.  ,  0.  , 17.78],\n",
       "       [ 0.  ,  0.  ,  1.  ,  2.01,  0.  ,  1.  ,  1.  , 12.74],\n",
       "       [ 0.  ,  1.  ,  0.  ,  3.12,  1.  ,  0.  ,  0.  , 26.88],\n",
       "       [ 1.  ,  0.  ,  0.  ,  3.16,  1.  ,  1.  ,  0.  , 15.81],\n",
       "       [ 1.  ,  0.  ,  0.  ,  3.  ,  1.  ,  0.  ,  0.  , 14.  ],\n",
       "       [ 0.  ,  0.  ,  0.  ,  3.5 ,  1.  ,  0.  ,  0.  , 22.49],\n",
       "       [ 0.  ,  0.  ,  1.  ,  5.  ,  1.  ,  1.  ,  1.  , 32.68],\n",
       "       [ 1.  ,  0.  ,  0.  ,  1.5 ,  1.  ,  1.  ,  0.  , 11.59],\n",
       "       [ 0.  ,  0.  ,  0.  ,  1.92,  1.  ,  1.  ,  1.  ,  8.58],\n",
       "       [ 0.  ,  0.  ,  1.  ,  3.  ,  1.  ,  0.  ,  1.  , 21.16],\n",
       "       [ 0.  ,  1.  ,  0.  ,  1.96,  1.  ,  0.  ,  0.  , 15.04],\n",
       "       [ 0.  ,  1.  ,  0.  ,  3.  ,  1.  ,  0.  ,  0.  , 18.43],\n",
       "       [ 1.  ,  0.  ,  0.  ,  6.73,  1.  ,  0.  ,  0.  , 48.27],\n",
       "       [ 1.  ,  0.  ,  0.  ,  2.23,  0.  ,  1.  ,  0.  , 12.76],\n",
       "       [ 0.  ,  0.  ,  1.  ,  2.83,  0.  ,  0.  ,  1.  , 20.27],\n",
       "       [ 0.  ,  1.  ,  0.  ,  3.71,  1.  ,  0.  ,  0.  , 16.29],\n",
       "       [ 0.  ,  1.  ,  0.  ,  2.24,  1.  ,  0.  ,  0.  , 20.76],\n",
       "       [ 1.  ,  0.  ,  0.  ,  3.14,  0.  ,  1.  ,  0.  , 26.86],\n",
       "       [ 1.  ,  0.  ,  0.  ,  3.39,  1.  ,  0.  ,  0.  , 11.61],\n",
       "       [ 0.  ,  0.  ,  1.  ,  3.25,  0.  ,  0.  ,  1.  , 18.26],\n",
       "       [ 0.  ,  0.  ,  1.  ,  2.  ,  1.  ,  1.  ,  1.  , 13.51],\n",
       "       [ 0.  ,  0.  ,  0.  ,  1.58,  1.  ,  1.  ,  1.  , 13.42],\n",
       "       [ 1.  ,  0.  ,  0.  ,  3.76,  1.  ,  1.  ,  0.  , 18.29],\n",
       "       [ 0.  ,  1.  ,  0.  ,  4.34,  1.  ,  0.  ,  0.  , 25.56],\n",
       "       [ 1.  ,  0.  ,  0.  ,  4.29,  1.  ,  1.  ,  0.  , 25.21],\n",
       "       [ 0.  ,  1.  ,  0.  ,  2.5 ,  1.  ,  0.  ,  0.  , 12.54],\n",
       "       [ 1.  ,  0.  ,  0.  ,  2.  ,  1.  ,  1.  ,  0.  , 24.01],\n",
       "       [ 0.  ,  1.  ,  0.  ,  4.  ,  1.  ,  1.  ,  0.  , 16.82],\n",
       "       [ 1.  ,  0.  ,  0.  ,  9.  ,  1.  ,  0.  ,  0.  , 48.33],\n",
       "       [ 0.  ,  1.  ,  0.  ,  4.  ,  1.  ,  1.  ,  0.  , 23.1 ],\n",
       "       [ 1.  ,  0.  ,  0.  ,  2.  ,  0.  ,  1.  ,  0.  , 27.18],\n",
       "       [ 1.  ,  0.  ,  0.  ,  1.1 ,  0.  ,  1.  ,  0.  , 12.9 ],\n",
       "       [ 1.  ,  0.  ,  0.  ,  2.  ,  0.  ,  1.  ,  0.  , 10.63],\n",
       "       [ 1.  ,  0.  ,  0.  ,  1.76,  1.  ,  1.  ,  0.  , 11.24],\n",
       "       [ 0.  ,  1.  ,  0.  ,  2.05,  1.  ,  0.  ,  0.  , 28.55],\n",
       "       [ 0.  ,  0.  ,  1.  ,  5.85,  1.  ,  0.  ,  1.  , 24.71],\n",
       "       [ 1.  ,  0.  ,  0.  ,  2.75,  0.  ,  0.  ,  0.  , 20.29],\n",
       "       [ 1.  ,  0.  ,  0.  ,  1.5 ,  0.  ,  0.  ,  0.  , 26.41],\n",
       "       [ 0.  ,  0.  ,  1.  ,  2.5 ,  0.  ,  1.  ,  1.  , 16.4 ],\n",
       "       [ 0.  ,  1.  ,  0.  ,  3.5 ,  1.  ,  0.  ,  0.  , 21.5 ],\n",
       "       [ 1.  ,  0.  ,  0.  ,  1.  ,  1.  ,  1.  ,  0.  , 12.6 ],\n",
       "       [ 0.  ,  1.  ,  0.  ,  2.  ,  1.  ,  1.  ,  0.  , 30.46],\n",
       "       [ 0.  ,  0.  ,  1.  ,  4.19,  0.  ,  1.  ,  1.  , 19.81],\n",
       "       [ 0.  ,  0.  ,  1.  ,  2.18,  1.  ,  0.  ,  1.  , 22.82],\n",
       "       [ 1.  ,  0.  ,  0.  ,  3.07,  0.  ,  0.  ,  0.  , 16.93],\n",
       "       [ 0.  ,  1.  ,  0.  ,  3.75,  0.  ,  0.  ,  0.  , 25.  ],\n",
       "       [ 1.  ,  0.  ,  0.  ,  2.88,  0.  ,  1.  ,  0.  , 22.12],\n",
       "       [ 0.  ,  1.  ,  0.  ,  1.66,  1.  ,  0.  ,  0.  , 10.34],\n",
       "       [ 0.  ,  1.  ,  0.  ,  5.2 ,  0.  ,  0.  ,  0.  , 34.81],\n",
       "       [ 0.  ,  0.  ,  1.  ,  2.  ,  1.  ,  0.  ,  1.  ,  7.51],\n",
       "       [ 0.  ,  0.  ,  1.  ,  1.5 ,  1.  ,  0.  ,  1.  , 19.08],\n",
       "       [ 0.  ,  1.  ,  0.  ,  2.  ,  1.  ,  0.  ,  0.  , 13.13],\n",
       "       [ 1.  ,  0.  ,  0.  ,  3.48,  0.  ,  1.  ,  0.  , 22.42],\n",
       "       [ 0.  ,  0.  ,  0.  ,  1.5 ,  1.  ,  0.  ,  0.  , 12.46],\n",
       "       [ 0.  ,  1.  ,  0.  ,  5.07,  1.  ,  0.  ,  0.  , 29.93],\n",
       "       [ 0.  ,  0.  ,  1.  ,  4.  ,  1.  ,  0.  ,  1.  , 18.28],\n",
       "       [ 0.  ,  0.  ,  1.  ,  2.  ,  0.  ,  1.  ,  1.  , 13.  ],\n",
       "       [ 1.  ,  0.  ,  0.  ,  2.2 ,  0.  ,  0.  ,  0.  , 14.73],\n",
       "       [ 1.  ,  0.  ,  0.  ,  6.5 ,  0.  ,  1.  ,  0.  , 28.17],\n",
       "       [ 1.  ,  0.  ,  0.  ,  2.  ,  1.  ,  1.  ,  0.  , 30.06],\n",
       "       [ 0.  ,  0.  ,  1.  ,  1.68,  0.  ,  0.  ,  1.  , 13.42],\n",
       "       [ 0.  ,  0.  ,  1.  ,  3.  ,  0.  ,  0.  ,  0.  , 18.78],\n",
       "       [ 1.  ,  0.  ,  0.  ,  4.08,  1.  ,  0.  ,  0.  , 17.92],\n",
       "       [ 0.  ,  1.  ,  0.  ,  3.5 ,  0.  ,  1.  ,  0.  , 18.15],\n",
       "       [ 1.  ,  0.  ,  0.  ,  3.  ,  0.  ,  0.  ,  0.  , 17.07],\n",
       "       [ 1.  ,  0.  ,  0.  ,  4.06,  1.  ,  1.  ,  0.  , 20.49],\n",
       "       [ 0.  ,  1.  ,  0.  ,  3.02,  0.  ,  0.  ,  0.  , 14.83],\n",
       "       [ 0.  ,  0.  ,  0.  ,  1.  ,  0.  ,  1.  ,  0.  ,  5.75],\n",
       "       [ 0.  ,  1.  ,  0.  ,  3.55,  1.  ,  1.  ,  0.  , 34.63],\n",
       "       [ 1.  ,  0.  ,  0.  ,  2.5 ,  0.  ,  1.  ,  0.  , 44.3 ]])"
      ]
     },
     "execution_count": 71,
     "metadata": {},
     "output_type": "execute_result"
    }
   ],
   "source": [
    "X_train"
   ]
  },
  {
   "cell_type": "code",
   "execution_count": 72,
   "metadata": {},
   "outputs": [],
   "source": [
    "X_test = ct.transform(X_test)"
   ]
  },
  {
   "cell_type": "code",
   "execution_count": 78,
   "metadata": {},
   "outputs": [],
   "source": [
    "from sklearn.naive_bayes import BernoulliNB"
   ]
  },
  {
   "cell_type": "code",
   "execution_count": 83,
   "metadata": {},
   "outputs": [],
   "source": [
    "bnb = BernoulliNB()"
   ]
  },
  {
   "cell_type": "code",
   "execution_count": 84,
   "metadata": {},
   "outputs": [
    {
     "data": {
      "text/html": [
       "<style>#sk-container-id-6 {color: black;background-color: white;}#sk-container-id-6 pre{padding: 0;}#sk-container-id-6 div.sk-toggleable {background-color: white;}#sk-container-id-6 label.sk-toggleable__label {cursor: pointer;display: block;width: 100%;margin-bottom: 0;padding: 0.3em;box-sizing: border-box;text-align: center;}#sk-container-id-6 label.sk-toggleable__label-arrow:before {content: \"▸\";float: left;margin-right: 0.25em;color: #696969;}#sk-container-id-6 label.sk-toggleable__label-arrow:hover:before {color: black;}#sk-container-id-6 div.sk-estimator:hover label.sk-toggleable__label-arrow:before {color: black;}#sk-container-id-6 div.sk-toggleable__content {max-height: 0;max-width: 0;overflow: hidden;text-align: left;background-color: #f0f8ff;}#sk-container-id-6 div.sk-toggleable__content pre {margin: 0.2em;color: black;border-radius: 0.25em;background-color: #f0f8ff;}#sk-container-id-6 input.sk-toggleable__control:checked~div.sk-toggleable__content {max-height: 200px;max-width: 100%;overflow: auto;}#sk-container-id-6 input.sk-toggleable__control:checked~label.sk-toggleable__label-arrow:before {content: \"▾\";}#sk-container-id-6 div.sk-estimator input.sk-toggleable__control:checked~label.sk-toggleable__label {background-color: #d4ebff;}#sk-container-id-6 div.sk-label input.sk-toggleable__control:checked~label.sk-toggleable__label {background-color: #d4ebff;}#sk-container-id-6 input.sk-hidden--visually {border: 0;clip: rect(1px 1px 1px 1px);clip: rect(1px, 1px, 1px, 1px);height: 1px;margin: -1px;overflow: hidden;padding: 0;position: absolute;width: 1px;}#sk-container-id-6 div.sk-estimator {font-family: monospace;background-color: #f0f8ff;border: 1px dotted black;border-radius: 0.25em;box-sizing: border-box;margin-bottom: 0.5em;}#sk-container-id-6 div.sk-estimator:hover {background-color: #d4ebff;}#sk-container-id-6 div.sk-parallel-item::after {content: \"\";width: 100%;border-bottom: 1px solid gray;flex-grow: 1;}#sk-container-id-6 div.sk-label:hover label.sk-toggleable__label {background-color: #d4ebff;}#sk-container-id-6 div.sk-serial::before {content: \"\";position: absolute;border-left: 1px solid gray;box-sizing: border-box;top: 0;bottom: 0;left: 50%;z-index: 0;}#sk-container-id-6 div.sk-serial {display: flex;flex-direction: column;align-items: center;background-color: white;padding-right: 0.2em;padding-left: 0.2em;position: relative;}#sk-container-id-6 div.sk-item {position: relative;z-index: 1;}#sk-container-id-6 div.sk-parallel {display: flex;align-items: stretch;justify-content: center;background-color: white;position: relative;}#sk-container-id-6 div.sk-item::before, #sk-container-id-6 div.sk-parallel-item::before {content: \"\";position: absolute;border-left: 1px solid gray;box-sizing: border-box;top: 0;bottom: 0;left: 50%;z-index: -1;}#sk-container-id-6 div.sk-parallel-item {display: flex;flex-direction: column;z-index: 1;position: relative;background-color: white;}#sk-container-id-6 div.sk-parallel-item:first-child::after {align-self: flex-end;width: 50%;}#sk-container-id-6 div.sk-parallel-item:last-child::after {align-self: flex-start;width: 50%;}#sk-container-id-6 div.sk-parallel-item:only-child::after {width: 0;}#sk-container-id-6 div.sk-dashed-wrapped {border: 1px dashed gray;margin: 0 0.4em 0.5em 0.4em;box-sizing: border-box;padding-bottom: 0.4em;background-color: white;}#sk-container-id-6 div.sk-label label {font-family: monospace;font-weight: bold;display: inline-block;line-height: 1.2em;}#sk-container-id-6 div.sk-label-container {text-align: center;}#sk-container-id-6 div.sk-container {/* jupyter's `normalize.less` sets `[hidden] { display: none; }` but bootstrap.min.css set `[hidden] { display: none !important; }` so we also need the `!important` here to be able to override the default hidden behavior on the sphinx rendered scikit-learn.org. See: https://github.com/scikit-learn/scikit-learn/issues/21755 */display: inline-block !important;position: relative;}#sk-container-id-6 div.sk-text-repr-fallback {display: none;}</style><div id=\"sk-container-id-6\" class=\"sk-top-container\"><div class=\"sk-text-repr-fallback\"><pre>BernoulliNB()</pre><b>In a Jupyter environment, please rerun this cell to show the HTML representation or trust the notebook. <br />On GitHub, the HTML representation is unable to render, please try loading this page with nbviewer.org.</b></div><div class=\"sk-container\" hidden><div class=\"sk-item\"><div class=\"sk-estimator sk-toggleable\"><input class=\"sk-toggleable__control sk-hidden--visually\" id=\"sk-estimator-id-6\" type=\"checkbox\" checked><label for=\"sk-estimator-id-6\" class=\"sk-toggleable__label sk-toggleable__label-arrow\">BernoulliNB</label><div class=\"sk-toggleable__content\"><pre>BernoulliNB()</pre></div></div></div></div></div>"
      ],
      "text/plain": [
       "BernoulliNB()"
      ]
     },
     "execution_count": 84,
     "metadata": {},
     "output_type": "execute_result"
    }
   ],
   "source": [
    "bnb.fit(X_train,y_train)"
   ]
  },
  {
   "cell_type": "code",
   "execution_count": 85,
   "metadata": {},
   "outputs": [],
   "source": [
    "y_pred = gnb.predict(X_test)"
   ]
  },
  {
   "cell_type": "code",
   "execution_count": 87,
   "metadata": {},
   "outputs": [
    {
     "name": "stdout",
     "output_type": "stream",
     "text": [
      "0.5573770491803278\n",
      "[[ 0  2  0  0  0  0]\n",
      " [ 0 31  0  7  0  0]\n",
      " [ 0  8  0  2  0  0]\n",
      " [ 0  5  0  3  0  0]\n",
      " [ 0  2  0  0  0  0]\n",
      " [ 0  0  0  1  0  0]]\n",
      "              precision    recall  f1-score   support\n",
      "\n",
      "           1       0.00      0.00      0.00         2\n",
      "           2       0.65      0.82      0.72        38\n",
      "           3       0.00      0.00      0.00        10\n",
      "           4       0.23      0.38      0.29         8\n",
      "           5       0.00      0.00      0.00         2\n",
      "           6       0.00      0.00      0.00         1\n",
      "\n",
      "    accuracy                           0.56        61\n",
      "   macro avg       0.15      0.20      0.17        61\n",
      "weighted avg       0.43      0.56      0.49        61\n",
      "\n"
     ]
    },
    {
     "name": "stderr",
     "output_type": "stream",
     "text": [
      "c:\\Users\\abman\\anaconda3\\lib\\site-packages\\sklearn\\metrics\\_classification.py:1344: UndefinedMetricWarning: Precision and F-score are ill-defined and being set to 0.0 in labels with no predicted samples. Use `zero_division` parameter to control this behavior.\n",
      "  _warn_prf(average, modifier, msg_start, len(result))\n",
      "c:\\Users\\abman\\anaconda3\\lib\\site-packages\\sklearn\\metrics\\_classification.py:1344: UndefinedMetricWarning: Precision and F-score are ill-defined and being set to 0.0 in labels with no predicted samples. Use `zero_division` parameter to control this behavior.\n",
      "  _warn_prf(average, modifier, msg_start, len(result))\n",
      "c:\\Users\\abman\\anaconda3\\lib\\site-packages\\sklearn\\metrics\\_classification.py:1344: UndefinedMetricWarning: Precision and F-score are ill-defined and being set to 0.0 in labels with no predicted samples. Use `zero_division` parameter to control this behavior.\n",
      "  _warn_prf(average, modifier, msg_start, len(result))\n"
     ]
    }
   ],
   "source": [
    "from sklearn.metrics import classification_report, accuracy_score, confusion_matrix\n",
    "\n",
    "print(accuracy_score(y_test,y_pred))\n",
    "print(confusion_matrix(y_test,y_pred))\n",
    "print(classification_report(y_test,y_pred))"
   ]
  },
  {
   "cell_type": "code",
   "execution_count": 88,
   "metadata": {},
   "outputs": [],
   "source": []
  },
  {
   "cell_type": "code",
   "execution_count": null,
   "metadata": {},
   "outputs": [],
   "source": []
  }
 ],
 "metadata": {
  "kernelspec": {
   "display_name": "base",
   "language": "python",
   "name": "python3"
  },
  "language_info": {
   "codemirror_mode": {
    "name": "ipython",
    "version": 3
   },
   "file_extension": ".py",
   "mimetype": "text/x-python",
   "name": "python",
   "nbconvert_exporter": "python",
   "pygments_lexer": "ipython3",
   "version": "3.10.9"
  }
 },
 "nbformat": 4,
 "nbformat_minor": 2
}
